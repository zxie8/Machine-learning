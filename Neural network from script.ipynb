{
 "cells": [
  {
   "cell_type": "code",
   "execution_count": 1,
   "id": "c22ba4db",
   "metadata": {},
   "outputs": [],
   "source": [
    "# -*- coding: utf-8 -*-\n",
    "\"\"\"\n",
    "Created on Tue Sep  7 18:35:34 2021\n",
    "\n",
    "This code refers to:\n",
    "https://machinelearningmastery.com/implement-backpropagation-algorithm-scratch-python/\n",
    "http://neuralnetworksanddeeplearning.com/chap1.html\n",
    "\n",
    "\n",
    "@author: Ziyang Xie\n",
    "\"\"\"\n",
    "from random import randrange\n",
    "from math import exp\n",
    "from random import seed\n",
    "from random import random\n",
    "import numpy as np\n",
    "import matplotlib.pyplot as plt\n",
    "import collections"
   ]
  },
  {
   "cell_type": "code",
   "execution_count": 2,
   "id": "15777b62",
   "metadata": {},
   "outputs": [],
   "source": [
    "'''\n",
    "For the simplest case, we create one hidden layer. This hidden layer has n_hidden neurons, \n",
    "and each neurons has n_inputs + 1 (1 for bias) weights. Similarly, each output neuron has n_hidden + 1 weights.\n",
    "'''\n",
    "def init_network(n_inputs, n_hidden, n_outputs):\n",
    "    network = []\n",
    "    hidden_layer = [{'weights': [random() for i in range(n_inputs + 1)]} for i in range(n_hidden)]\n",
    "    network.append(hidden_layer)\n",
    "    output_layer = [{'weights': [random() for i in range(n_hidden + 1)]} for i in range(n_outputs)]\n",
    "    network.append(output_layer)\n",
    "    return network"
   ]
  },
  {
   "cell_type": "code",
   "execution_count": 3,
   "id": "c664090f",
   "metadata": {},
   "outputs": [],
   "source": [
    "'''\n",
    "Based on this equation: activation = sum(weight_i * input_i) + bias\n",
    "Quite simple!\n",
    "'''\n",
    "def activate(weights, inputs):\n",
    "    activation = weights[-1]\n",
    "    for i in range(len(weights) - 1):#last element is the bias\n",
    "        activation += weights[i] * inputs[i]\n",
    "    return activation"
   ]
  },
  {
   "cell_type": "code",
   "execution_count": 4,
   "id": "2d2df2e3",
   "metadata": {},
   "outputs": [],
   "source": [
    "'''\n",
    "We use sigmoid activation here. \n",
    "Commonly-used activation functions:\n",
    "https://towardsdatascience.com/activation-functions-neural-networks-1cbd9f8d91d6\n",
    "'''\n",
    "def transfer(activation):\n",
    "    return 1.0 / (1.0 + exp(-activation))\n"
   ]
  },
  {
   "cell_type": "code",
   "execution_count": 5,
   "id": "a88eeca1",
   "metadata": {},
   "outputs": [],
   "source": [
    "'''\n",
    "for each layer, it receives previous layer's outputs as input, and calculates it's output by activation / tranfer function. Thin function returns the ouputs from the last layer (output layer)\n",
    "'''\n",
    "def forward_propagate(network, row):\n",
    "    inputs = row\n",
    "    for layer in network:\n",
    "        new_inputs = []\n",
    "        for neuron in layer:\n",
    "            activation = activate(neuron['weights'], inputs)\n",
    "            neuron['output'] = transfer(activation)\n",
    "            new_inputs.append(neuron['output'])\n",
    "        inputs = new_inputs\n",
    "    return inputs"
   ]
  },
  {
   "cell_type": "code",
   "execution_count": 6,
   "id": "336343cc",
   "metadata": {},
   "outputs": [],
   "source": [
    "'''\n",
    "Now it comes to the backpropagation , we first need to calculate the derivative of sigmoid transfer funtion.\n",
    "'''\n",
    "def transfer_derivative(output):\n",
    "\treturn output * (1.0 - output)"
   ]
  },
  {
   "cell_type": "code",
   "execution_count": 7,
   "id": "90e2a27f",
   "metadata": {},
   "outputs": [],
   "source": [
    "'''\n",
    "We first calculate the error signal from each neuron and save it with the name delta.\n",
    "Please note that in the last layer, the error is (expected value of the output - output of the output layer). Then, the error signal propagage back to the previous layers by\n",
    "\t\n",
    "error = (weight_k * error_j) * transfer_derivative(output)\n",
    "\n",
    "Where error_j is the error signal from the jth neuron in the output layer, weight_k is the weight that connects the kth neuron to the current neuron and output is the output for the current neuron.\n",
    "'''\n",
    "def backward_propagate_error(network, expected):\n",
    "    for i in range(len(network) - 1, -1, -1):#reverse range\n",
    "        layer = network[i]\n",
    "        errors = []\n",
    "        if i != len(network) - 1:\n",
    "            for j in range(len(layer)):\n",
    "                error = 0.0\n",
    "                for neuron in network[i + 1]:\n",
    "                    error += (neuron['weights'][j] * neuron['delta'])\n",
    "                errors.append(error)\n",
    "        else:\n",
    "            for j in range(len(layer)):\n",
    "                neuron = layer[j]\n",
    "                errors.append(expected[j] - neuron['output'])\n",
    "        for j in range(len(layer)):\n",
    "            neuron = layer[j]\n",
    "            neuron['delta'] = errors[j] * transfer_derivative(neuron['output'])"
   ]
  },
  {
   "cell_type": "code",
   "execution_count": 8,
   "id": "b0529ab2",
   "metadata": {},
   "outputs": [],
   "source": [
    "'''\n",
    "After the errors are calculated for each neuron, we can use these errors to update weights:\n",
    "    \t\n",
    "weight = weight + learning_rate * error * input\n",
    "\n",
    "Where weight is a given weight, learning_rate is a parameter that you must specify, error is the error calculated by the backpropagation procedure for the neuron and input is the input value that caused the error.\n",
    "\n",
    "'''\n",
    "def update_weights(network, row, l_rate):\n",
    "    for i in range(len(network)):\n",
    "        inputs = row[:-1]\n",
    "        if i != 0:\n",
    "            inputs = [neuron['output'] for neuron in network[i - 1]]\n",
    "        for neuron in network[i]:\n",
    "            for j in range(len(inputs)):\n",
    "                neuron['weights'][j] += l_rate * neuron['delta'] * inputs[j]\n",
    "            neuron['weights'][-1] += l_rate * neuron['delta'] #update the weights of bias"
   ]
  },
  {
   "cell_type": "code",
   "execution_count": 9,
   "id": "b63dd7db",
   "metadata": {},
   "outputs": [],
   "source": [
    "'''\n",
    "Here, the network is updated using stochastic gradiant descent (online gradiant descent), This is because updates are made for each pattern, If errors were accumulated across an epoch before updating the weights, this is called batch learning or batch gradient descent (which is commonly used in large-scale networks and need a batch size parameter).\n",
    "\n",
    "The sum squared error between the expected output and the network output is accumulated each epoch and printed. This is helpful to create a trace of how much the network is learning and improving each epoch.\n",
    "'''\n",
    "def train(network, train, l_rate, n_epoch, n_outputs):\n",
    "    for epoch in range(n_epoch):\n",
    "        sum_error = 0\n",
    "        for row in train:\n",
    "            outputs = forward_propagate(network, row)\n",
    "            expected = [0 for i in range(n_outputs)]\n",
    "            expected[row[-1]] = 1\n",
    "            sum_error += sum([(expected[i] - outputs[i]) ** 2 for i in range(len(expected))])\n",
    "            backward_propagate_error(network, expected)\n",
    "            update_weights(network, row, l_rate)\n",
    "        if not epoch % 50:#print every 50 epoches\n",
    "            print('>epoch=%d, lrate=%.3f, error=%.3f' % (epoch, l_rate, sum_error))"
   ]
  },
  {
   "cell_type": "code",
   "execution_count": 10,
   "id": "13502a7c",
   "metadata": {},
   "outputs": [],
   "source": [
    "\n",
    "'''\n",
    "Using this plot function, you can see the distribution of two data sets\n",
    "'''\n",
    "\n",
    "def plot_data(dataset,color = 'r'):\n",
    "    d = collections.defaultdict(list)\n",
    "    for x, y, data_type in dataset:\n",
    "        d[data_type].append([x,y])\n",
    "    for key in d.keys():\n",
    "        data = np.transpose(np.array(d[key]))\n",
    "        plt.scatter(data[0],data[1], label = key)\n",
    "    plt.legend()\n",
    "        \n",
    "\n",
    "\n"
   ]
  },
  {
   "cell_type": "code",
   "execution_count": 11,
   "id": "ae5696c1",
   "metadata": {},
   "outputs": [],
   "source": [
    "'''\n",
    "In general, it is good to normalize input values to the range of transfer function (our sigmoid funciton ranges between 0 and 1). Therefore, we need a helper function to normalize the input.\n",
    "'''\n",
    "def normalize_dataset(dataset):\n",
    "    stats = [[min(column), max(column)] for column in zip(*dataset)]\n",
    "    for row in dataset:\n",
    "            for i in range(len(row)-1):\n",
    "                row[i] = (row[i] - stats[i][0]) / (stats[i][1] - stats[i][0])"
   ]
  },
  {
   "cell_type": "code",
   "execution_count": 12,
   "id": "c4298706",
   "metadata": {},
   "outputs": [],
   "source": [
    "'''\n",
    "Apply k-folds cross validation. Cross-validation is primarily used in applied machine learning to estimate the skill of a machine learning model on unseen data\n",
    "For more details:\n",
    "https://machinelearningmastery.com/k-fold-cross-validation/\n",
    "'''\n",
    "def cross_validation_split(dataset, n_folds):\n",
    "    dataset_split = list()\n",
    "    dataset_copy = list(dataset)\n",
    "    fold_size = int(len(dataset) / n_folds)\n",
    "    for i in range(n_folds):\n",
    "        fold = list()\n",
    "        while len(fold) < fold_size:\n",
    "            index = randrange(len(dataset_copy))\n",
    "            fold.append(dataset_copy.pop(index))\n",
    "        dataset_split.append(fold)\n",
    "    return dataset_split"
   ]
  },
  {
   "cell_type": "code",
   "execution_count": 13,
   "id": "8d3ac5e6",
   "metadata": {},
   "outputs": [],
   "source": [
    "'''\n",
    "Calculate accuracy percentage\n",
    "'''\n",
    "def accuracy_metric(actual, predicted):\n",
    "    correct = 0\n",
    "    for i in range(len(actual)):\n",
    "        if actual[i] == predicted[i]:\n",
    "            correct += 1\n",
    "    return correct / float(len(actual)) * 100.0"
   ]
  },
  {
   "cell_type": "code",
   "execution_count": 14,
   "id": "05a0068f",
   "metadata": {},
   "outputs": [],
   "source": [
    "'''\n",
    "Evaluate algorithm using cross validation split\n",
    "'''\n",
    "def evaluate_algorithm(dataset, algorithm, n_folds, *args):\n",
    "    folds = cross_validation_split(dataset, n_folds)\n",
    "    scores = list()\n",
    "    for fold in folds:\n",
    "        train_set = list(folds)\n",
    "        train_set.remove(fold)\n",
    "        train_set = sum(train_set, [])\n",
    "        test_set = list()\n",
    "        for row in fold:\n",
    "            row_copy = list(row)\n",
    "            test_set.append(row_copy)\n",
    "            row_copy[-1] = None\n",
    "        predicted = algorithm(train_set, test_set, *args)\n",
    "        actual = [row[-1] for row in fold]\n",
    "        accuracy = accuracy_metric(actual, predicted)\n",
    "        scores.append(accuracy)\n",
    "    return scores"
   ]
  },
  {
   "cell_type": "code",
   "execution_count": 15,
   "id": "a79fdacb",
   "metadata": {},
   "outputs": [],
   "source": [
    "\n",
    "'''\n",
    "Make predictions\n",
    "'''\n",
    "def predict(network, row):\n",
    "    outputs = forward_propagate(network, row)\n",
    "    return outputs.index(max(outputs))"
   ]
  },
  {
   "cell_type": "code",
   "execution_count": 16,
   "id": "d3a75aef",
   "metadata": {
    "scrolled": true
   },
   "outputs": [
    {
     "data": {
      "image/png": "[encoded data removed]",
      "text/plain": [
       "<Figure size 432x288 with 1 Axes>"
      ]
     },
     "metadata": {
      "needs_background": "light"
     },
     "output_type": "display_data"
    }
   ],
   "source": [
    "'''\n",
    "Create a toy dataset (change these parameters and see how our network performs), and do a pilot test.\n",
    "'''\n",
    "seed(1)\n",
    "x1_base, y1_base, x2_base, y2_base = 0, 0, 2, 2\n",
    "x1_rand, y1_rand, x2_rand, y2_rand = 4, 4, 4, 4\n",
    "type_1data = [[x1_base + (random() - 0.5) * x1_rand, y1_base + (random() - 0.5) * y1_rand, 0] for _ in range(100)]\n",
    "type_2data = [[x2_base + (random() - 0.5) * x2_rand, y2_base + (random() - 0.5) * y2_rand, 1] for _ in range(100)]\n",
    "dataset =  type_1data + type_2data\n",
    "plot_data(dataset)\n"
   ]
  },
  {
   "cell_type": "code",
   "execution_count": 17,
   "id": "90645dcb",
   "metadata": {},
   "outputs": [
    {
     "name": "stdout",
     "output_type": "stream",
     "text": [
      ">epoch=0, lrate=0.050, error=157.474\n"
     ]
    }
   ],
   "source": [
    "n_inputs = len(dataset[0]) - 1\n",
    "n_outputs = len(set([row[-1] for row in dataset]))\n",
    "network = init_network(n_inputs, 5, n_outputs)\n",
    "train(network, dataset, 0.05, 30, n_outputs)\n",
    "minmax = normalize_dataset(dataset)\n"
   ]
  },
  {
   "cell_type": "code",
   "execution_count": 18,
   "id": "752d54d6",
   "metadata": {},
   "outputs": [],
   "source": [
    "for row in dataset:\n",
    "    prediction = predict(network, row)\n",
    "    "
   ]
  },
  {
   "cell_type": "code",
   "execution_count": 19,
   "id": "5daae835",
   "metadata": {},
   "outputs": [
    {
     "name": "stdout",
     "output_type": "stream",
     "text": [
      ">epoch=0, lrate=0.300, error=92.064\n",
      ">epoch=50, lrate=0.300, error=34.411\n",
      ">epoch=100, lrate=0.300, error=34.058\n",
      ">epoch=150, lrate=0.300, error=33.873\n",
      ">epoch=0, lrate=0.300, error=87.026\n",
      ">epoch=50, lrate=0.300, error=32.849\n",
      ">epoch=100, lrate=0.300, error=32.537\n",
      ">epoch=150, lrate=0.300, error=32.229\n",
      ">epoch=0, lrate=0.300, error=87.941\n",
      ">epoch=50, lrate=0.300, error=28.591\n",
      ">epoch=100, lrate=0.300, error=28.174\n",
      ">epoch=150, lrate=0.300, error=27.905\n",
      ">epoch=0, lrate=0.300, error=83.079\n",
      ">epoch=50, lrate=0.300, error=32.709\n",
      ">epoch=100, lrate=0.300, error=32.236\n",
      ">epoch=150, lrate=0.300, error=31.941\n",
      ">epoch=0, lrate=0.300, error=89.900\n",
      ">epoch=50, lrate=0.300, error=27.259\n",
      ">epoch=100, lrate=0.300, error=26.777\n",
      ">epoch=150, lrate=0.300, error=26.450\n",
      "Scores: [95.0, 90.0, 80.0, 90.0, 75.0]\n",
      "Mean Accuracy: 86.000%\n"
     ]
    }
   ],
   "source": [
    "'''\n",
    "Use normalization and k-fold to evaluate our model's performance on toy data\n",
    "'''\n",
    "def back_propagation(train_data, test, l_rate, n_epoch, n_hidden):\n",
    "    n_inputs = len(train_data[0]) - 1\n",
    "    n_outpus = len(set(row[-1] for row in train_data))\n",
    "    network = init_network(n_inputs, n_hidden, n_outputs)\n",
    "    train(network, train_data, l_rate, n_epoch, n_outputs)\n",
    "    predictions = list()\n",
    "    for row in test:\n",
    "        prediction = predict(network, row)\n",
    "        predictions.append(prediction)\n",
    "    return(predictions)\n",
    "\n",
    "normalize_dataset(dataset)\n",
    "# evaluate algorithm\n",
    "n_folds = 5\n",
    "l_rate = 0.3\n",
    "n_epoch = 200\n",
    "n_hidden = 5\n",
    "scores = evaluate_algorithm(dataset, back_propagation, n_folds, l_rate, n_epoch, n_hidden)\n",
    "print('Scores: %s' % scores)\n",
    "print('Mean Accuracy: %.3f%%' % (sum(scores)/float(len(scores))))"
   ]
  }
 ],
 "metadata": {
  "kernelspec": {
   "display_name": "Python 3",
   "language": "python",
   "name": "python3"
  },
  "language_info": {
   "codemirror_mode": {
    "name": "ipython",
    "version": 3
   },
   "file_extension": ".py",
   "mimetype": "text/x-python",
   "name": "python",
   "nbconvert_exporter": "python",
   "pygments_lexer": "ipython3",
   "version": "3.8.8"
  }
 },
 "nbformat": 4,
 "nbformat_minor": 5
}
